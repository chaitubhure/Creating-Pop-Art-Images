{
  "nbformat": 4,
  "nbformat_minor": 0,
  "metadata": {
    "colab": {
      "name": "PopArt.ipynb",
      "version": "0.3.2",
      "provenance": [],
      "include_colab_link": true
    },
    "kernelspec": {
      "name": "python3",
      "display_name": "Python 3"
    }
  },
  "cells": [
    {
      "cell_type": "markdown",
      "metadata": {
        "id": "view-in-github",
        "colab_type": "text"
      },
      "source": [
        "<a href=\"https://colab.research.google.com/github/chaitubhure/Creating-Pop-Art-Images/blob/master/PopArt.ipynb\" target=\"_parent\"><img src=\"https://colab.research.google.com/assets/colab-badge.svg\" alt=\"Open In Colab\"/></a>"
      ]
    },
    {
      "cell_type": "markdown",
      "metadata": {
        "id": "l4ko41q5I2DC",
        "colab_type": "text"
      },
      "source": [
        "**Import Packages**"
      ]
    },
    {
      "cell_type": "code",
      "metadata": {
        "id": "l-Z2uJEs3gJA",
        "colab_type": "code",
        "colab": {}
      },
      "source": [
        "import cv2\n",
        "import numpy as np"
      ],
      "execution_count": 0,
      "outputs": []
    },
    {
      "cell_type": "markdown",
      "metadata": {
        "id": "XNRWsf-hI61e",
        "colab_type": "text"
      },
      "source": [
        "**Set colours for the background and the dots; scheme [B,G,R]**"
      ]
    },
    {
      "cell_type": "code",
      "metadata": {
        "id": "UMICJNlZYNSQ",
        "colab_type": "code",
        "colab": {}
      },
      "source": [
        "background_colour = [19,234,249]\n",
        "dots_colour = [12,179,34]"
      ],
      "execution_count": 0,
      "outputs": []
    },
    {
      "cell_type": "markdown",
      "metadata": {
        "id": "JsH0iJ0FJJK4",
        "colab_type": "text"
      },
      "source": [
        "**Max number of dots on the longest side of the image**"
      ]
    },
    {
      "cell_type": "code",
      "metadata": {
        "id": "zzGUmhE2Y3ra",
        "colab_type": "code",
        "colab": {}
      },
      "source": [
        "max_dots = 100"
      ],
      "execution_count": 0,
      "outputs": []
    },
    {
      "cell_type": "markdown",
      "metadata": {
        "id": "PwS3Tx3ZJV6T",
        "colab_type": "text"
      },
      "source": [
        "**Import image as greyscale**"
      ]
    },
    {
      "cell_type": "code",
      "metadata": {
        "id": "TjPtYhdAZSra",
        "colab_type": "code",
        "colab": {}
      },
      "source": [
        "original_image = cv2.imread('PopArt_Input.jpg',0)"
      ],
      "execution_count": 0,
      "outputs": []
    },
    {
      "cell_type": "markdown",
      "metadata": {
        "id": "WR59tzAyJoIt",
        "colab_type": "text"
      },
      "source": [
        "**Extracting dimensions**"
      ]
    },
    {
      "cell_type": "code",
      "metadata": {
        "id": "6iJQkPY8aoEH",
        "colab_type": "code",
        "colab": {}
      },
      "source": [
        "original_image_height, original_image_width = original_image.shape"
      ],
      "execution_count": 0,
      "outputs": []
    },
    {
      "cell_type": "markdown",
      "metadata": {
        "id": "XRt6MocnJwZN",
        "colab_type": "text"
      },
      "source": [
        "**Downsizing to the number of dots**"
      ]
    },
    {
      "cell_type": "code",
      "metadata": {
        "id": "C2q3Po-Ca3dw",
        "colab_type": "code",
        "colab": {}
      },
      "source": [
        "if original_image_height == max(original_image_height,original_image_width):\n",
        "    downsized_image = cv2.resize(original_image,(int(original_image_height*(max_dots/original_image_width)),max_dots))\n",
        "else:\n",
        "    downsized_image = cv2.resize(original_image,(max_dots,int(original_image_height*(max_dots/original_image_width))))\n"
      ],
      "execution_count": 0,
      "outputs": []
    },
    {
      "cell_type": "markdown",
      "metadata": {
        "id": "qsBDkrpuJ1JU",
        "colab_type": "text"
      },
      "source": [
        "**Extracting dimensions of the downsized image**"
      ]
    },
    {
      "cell_type": "code",
      "metadata": {
        "id": "x7UBpjW7a-wZ",
        "colab_type": "code",
        "colab": {}
      },
      "source": [
        "downsized_image_height, downsized_image_width = downsized_image.shape"
      ],
      "execution_count": 0,
      "outputs": []
    },
    {
      "cell_type": "markdown",
      "metadata": {
        "id": "6zMN1du5KEv-",
        "colab_type": "text"
      },
      "source": [
        "**The value that changes the size of the final image**"
      ]
    },
    {
      "cell_type": "code",
      "metadata": {
        "id": "NcshUJ6KbEFm",
        "colab_type": "code",
        "colab": {}
      },
      "source": [
        "multiplier = 100"
      ],
      "execution_count": 0,
      "outputs": []
    },
    {
      "cell_type": "markdown",
      "metadata": {
        "id": "MRXSlPQGKVGG",
        "colab_type": "text"
      },
      "source": [
        "**Set size of the canvas**"
      ]
    },
    {
      "cell_type": "code",
      "metadata": {
        "id": "MdxPJTUwbH2s",
        "colab_type": "code",
        "colab": {}
      },
      "source": [
        "blank_img_height = downsized_image_height * multiplier\n",
        "blank_img_width = downsized_image_width * multiplier"
      ],
      "execution_count": 0,
      "outputs": []
    },
    {
      "cell_type": "markdown",
      "metadata": {
        "id": "cwT9NvfuKfVt",
        "colab_type": "text"
      },
      "source": [
        "**Set padding for the dots to start in frame**"
      ]
    },
    {
      "cell_type": "code",
      "metadata": {
        "id": "9xYZ2X0ibLnZ",
        "colab_type": "code",
        "colab": {}
      },
      "source": [
        "padding = int(multiplier/2)"
      ],
      "execution_count": 0,
      "outputs": []
    },
    {
      "cell_type": "markdown",
      "metadata": {
        "id": "JsHFOR_zKn_1",
        "colab_type": "text"
      },
      "source": [
        "**Creating canvas containing just the background colour**"
      ]
    },
    {
      "cell_type": "code",
      "metadata": {
        "id": "Sd_6b5T4bOoa",
        "colab_type": "code",
        "colab": {}
      },
      "source": [
        "blank_image = np.full(((blank_img_height),(blank_img_width),3), background_colour,dtype=np.uint8)"
      ],
      "execution_count": 0,
      "outputs": []
    },
    {
      "cell_type": "markdown",
      "metadata": {
        "id": "_58-TKuJKu41",
        "colab_type": "text"
      },
      "source": [
        "**Run through each pixel and draw a circular dots on the canvas**"
      ]
    },
    {
      "cell_type": "code",
      "metadata": {
        "id": "GoyJPU-UbTO0",
        "colab_type": "code",
        "colab": {}
      },
      "source": [
        "for y in range(0,downsized_image_height):\n",
        "    for x in range(0,downsized_image_width):\n",
        "        cv2.circle(blank_image,(((x*multiplier)+padding),((y*multiplier)+padding)), int((0.7 * multiplier) * ((255-downsized_image[y][x])/255)), dots_colour, -1)"
      ],
      "execution_count": 0,
      "outputs": []
    },
    {
      "cell_type": "markdown",
      "metadata": {
        "id": "F0WhdSZXK6HW",
        "colab_type": "text"
      },
      "source": [
        "**Save Image**"
      ]
    },
    {
      "cell_type": "code",
      "metadata": {
        "id": "mizNr2i_baVR",
        "colab_type": "code",
        "outputId": "ceb33498-1b15-4c55-8d73-62dab7b59e83",
        "colab": {
          "base_uri": "https://localhost:8080/",
          "height": 34
        }
      },
      "source": [
        "cv2.imwrite('PopArt_Output.png',blank_image)"
      ],
      "execution_count": 52,
      "outputs": [
        {
          "output_type": "execute_result",
          "data": {
            "text/plain": [
              "True"
            ]
          },
          "metadata": {
            "tags": []
          },
          "execution_count": 52
        }
      ]
    }
  ]
}